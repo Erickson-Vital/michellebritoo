{
  "nbformat": 4,
  "nbformat_minor": 0,
  "metadata": {
    "colab": {
      "name": "JogoPython.ipynb",
      "provenance": [],
      "authorship_tag": "ABX9TyPFfK80aiWzmpui6+w5h19H"
    },
    "kernelspec": {
      "name": "python3",
      "display_name": "Python 3"
    }
  },
  "cells": [
    {
      "cell_type": "markdown",
      "metadata": {
        "id": "rGD1onHAFnq5"
      },
      "source": [
        "<h1> Meu primeiro jogo em Python </h1>\n",
        "\n",
        "<p>\n",
        "Resultado de estudos com a linguagem de programção Python no projeto Digitalization Portifolio da SAP e na disciplina de algoritmos da FACCAT-Taquara. \n",
        "</p>\n",
        "\n",
        "\n"
      ]
    },
    {
      "cell_type": "code",
      "metadata": {
        "id": "YhTrv8exFms6"
      },
      "source": [
        "import random\n",
        "import os\n",
        "\n",
        "#base teste com algumas palavras para criar um pequeno jogo da forca\n",
        "palavras = [\"Julia\", \"Nicoli\", \"Matheus\", \"Luan\", \"Willian\", \"Mariana\"]\n",
        "\n",
        "def iniciarJogo():\n",
        "    palavraSecreta = random.choice(palavras).lower()\n",
        "    tamanhoPalavra = len(palavraSecreta)\n",
        "    linhas = \"-\" * tamanhoPalavra\n",
        "    tentativas = 5\n",
        "\n",
        "    while tentativas > 0 and linhas != palavraSecreta:\n",
        "        os.system(\"clear\")\n",
        "        print(\"===========ADIVINHE A PALAVRA!=========== \\n\", linhas)\n",
        "        print(\"Tentativas: \" , tentativas)\n",
        "        letraDigitada = input('Digite uma letra: \\n').lower()\n",
        "\n",
        "        if letraDigitada.isdigit():\n",
        "          print(\"Aviso: você precisa digitar uma letra. \\n\")\n",
        "        elif len(letraDigitada) != 1:\n",
        "          print(\"Você só pode verificar uma letra por vez. Tente novamente! \\n\")\n",
        "        elif letraDigitada in palavraSecreta:\n",
        "          print(\"Boa! Essa letra está na palavra!\\n\")\n",
        "          linhas = atualizarLinhas(palavraSecreta, linhas, letraDigitada)\n",
        "        else:\n",
        "          print(\"Essa letra não está na palavra.\\n\")\n",
        "          tentativas-=1\n",
        "    \n",
        "\n",
        "    if linhas == palavraSecreta :\n",
        "        print(\"Você venceu! a palavra era:\", palavraSecreta)\n",
        "    else :\n",
        "        print(\"Você perdeu :( \\n a palavra era:\", palavraSecreta)\n",
        "\n",
        "    reiniciarJogo()\n",
        "\n",
        "\n",
        "#reinicia o jogo\n",
        "def reiniciarJogo():\n",
        "    comecarDeNovo = input(\"Gostaria de jogar de novamente? (s/n)\")\n",
        "    if comecarDeNovo.lower() == 's':\n",
        "      print(\"\\n\"*5 , \"===========OLÁ NOVAMENTE!===========\")\n",
        "      iniciarJogo()\n",
        "    else:\n",
        "      print(\"O jogo foi finalizado ;)\")\n",
        "\n",
        "\n",
        "#atualizar a exibição no console               \n",
        "def atualizarLinhas(palavraSecreta, tracos, letra):\n",
        "    resultado = \"\"\n",
        "\n",
        "    for i in range(len(palavraSecreta)):\n",
        "        if palavraSecreta[i] == letra:\n",
        "            resultado += letra\n",
        "        else:\n",
        "            resultado += tracos[i]\n",
        "    return resultado\n",
        "\n",
        "\n",
        "#chamando o método principal\n",
        "iniciarJogo()"
      ],
      "execution_count": null,
      "outputs": []
    }
  ]
}